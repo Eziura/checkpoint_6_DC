{
 "cells": [
  {
   "cell_type": "markdown",
   "id": "9bb95aa6",
   "metadata": {},
   "source": [
    "# Ejercicio práctico\n",
    "\n",
    "Cree una clase de Python llamada Usuario que use el método init y cree un nombre de usuario y una contraseña. Crea un objeto usando la clase.\n"
   ]
  },
  {
   "cell_type": "code",
   "execution_count": 2,
   "id": "b7fb1626",
   "metadata": {},
   "outputs": [
    {
     "name": "stdout",
     "output_type": "stream",
     "text": [
      "Tu usuario es Juan y tu contraseña 123ABC. No compartas la contraseña con nadie.\n"
     ]
    }
   ],
   "source": [
    "class Usuario():\n",
    "    def __init__(self, usuario, contraseña):\n",
    "        self.usuario = usuario\n",
    "        self.contraseña = contraseña\n",
    "\n",
    "    def __str__(self):\n",
    "        return f\"Tu usuario es {self.usuario} y tu contraseña {self.contraseña}. No compartas la contraseña con nadie.\"\n",
    "    \n",
    "\n",
    "usuario1 = Usuario(\"Juan\", \"123ABC\")\n",
    "print(usuario1)"
   ]
  },
  {
   "cell_type": "markdown",
   "id": "79bbed61",
   "metadata": {},
   "source": [
    "He creado la clase llamada usuario. Lo primero ha sido usar el método \\_\\_ init\\_\\_ (o dunder init) en el que se han añadido los atributos de self, usuario y contraseña. Este dunder init es el que inicializa los atributos del objeto y self es una palabra de Python que se refiere a la instancia del objeto que se está creando.\n",
    "\n",
    "Después he usado un dunder str, que es otro metodo especial de python, se usa para representar una cadena, en este caso, para que la clase de Usuario retorne la frase deseada, que sería mostrar el usuario y la contraseña de esta forma \"Tu usuario es {self.usuario} y tu contraseña {self.contraseña}. No compartas la contraseña con nadie.\"\n",
    "\n",
    "Finalmente, he creado una instancia de usuario1 para un usuario llamado Juan con una contraseña de 123ABC, por lo que al hacer print del objeto, se muesrta lo insertado dentro del dunder str."
   ]
  }
 ],
 "metadata": {
  "kernelspec": {
   "display_name": "base",
   "language": "python",
   "name": "python3"
  },
  "language_info": {
   "codemirror_mode": {
    "name": "ipython",
    "version": 3
   },
   "file_extension": ".py",
   "mimetype": "text/x-python",
   "name": "python",
   "nbconvert_exporter": "python",
   "pygments_lexer": "ipython3",
   "version": "3.11.8"
  }
 },
 "nbformat": 4,
 "nbformat_minor": 5
}
