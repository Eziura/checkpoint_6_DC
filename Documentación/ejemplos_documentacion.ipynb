{
 "cells": [
  {
   "cell_type": "code",
   "execution_count": null,
   "id": "53ab5061",
   "metadata": {},
   "outputs": [
    {
     "name": "stdout",
     "output_type": "stream",
     "text": [
      "Tostada calentada a 50 grados durante 2 minutos\n",
      "Tostada calentada a 40 grados durante 5 minutos\n"
     ]
    }
   ],
   "source": [
    "class Tostada():\n",
    "\n",
    "    def __init__(self, temperatura, tiempo):\n",
    "        self.temperatura = temperatura\n",
    "        self.tiempo = tiempo\n",
    "\n",
    "    # Uso de __str__ para representar el objeto de la Tostada como texto\n",
    "    def __str__(self):\n",
    "        return \"Tostada calentada a {} grados durante {} minutos\".format(self.temperatura, self.tiempo)\n",
    "\n",
    "\n",
    "\n",
    "tostada1 = Tostada(50,2)\n",
    "print(tostada1)\n",
    "\n",
    "tostada2 = Tostada(40,5)\n",
    "print(tostada2)"
   ]
  },
  {
   "cell_type": "code",
   "execution_count": 5,
   "id": "3bb4467f",
   "metadata": {},
   "outputs": [
    {
     "name": "stdout",
     "output_type": "stream",
     "text": [
      "Juan está saludando: ¡Hola!\n",
      "Kate está saludando: Hello!\n",
      "Iker está saludando: Kaixo!\n"
     ]
    }
   ],
   "source": [
    "# La clase general\n",
    "class Person:\n",
    "    def __init__(self, nombre):\n",
    "        self.nombre = nombre\n",
    "\n",
    "    def hablar(self):\n",
    "        raise NotImplementedError(\"La subclase tiene que implementar el metodo de hablar\")\n",
    "\n",
    "#Las clases que van a heredar la función de hablar\n",
    "class Spanish(Person):\n",
    "    def hablar(self):\n",
    "        return f'{self.nombre} está saludando: ¡Hola!'\n",
    "\n",
    "class English(Person):\n",
    "    def hablar(self):\n",
    "        return f'{self.nombre} está saludando: Hello!'\n",
    "\n",
    "class Basque(Person):\n",
    "    def hablar(self):\n",
    "        return f'{self.nombre} está saludando: Kaixo!'\n",
    "\n",
    "# La lista de las tres personas de distinta habla, con su nombre\n",
    "personas = [Spanish('Juan'), English('Kate'), Basque('Iker')]\n",
    "\n",
    "for persona in personas:\n",
    "    print(persona.hablar())"
   ]
  },
  {
   "cell_type": "code",
   "execution_count": null,
   "id": "13e8808d",
   "metadata": {},
   "outputs": [],
   "source": []
  }
 ],
 "metadata": {
  "kernelspec": {
   "display_name": "base",
   "language": "python",
   "name": "python3"
  },
  "language_info": {
   "codemirror_mode": {
    "name": "ipython",
    "version": 3
   },
   "file_extension": ".py",
   "mimetype": "text/x-python",
   "name": "python",
   "nbconvert_exporter": "python",
   "pygments_lexer": "ipython3",
   "version": "3.11.8"
  }
 },
 "nbformat": 4,
 "nbformat_minor": 5
}
